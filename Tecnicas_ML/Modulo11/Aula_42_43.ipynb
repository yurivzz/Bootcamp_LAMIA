{
 "cells": [
  {
   "cell_type": "markdown",
   "id": "1114c23a-2ad4-43a2-9795-443bdf94647f",
   "metadata": {},
   "source": [
    "# Ensemble Learning"
   ]
  },
  {
   "cell_type": "markdown",
   "id": "0cec9e3d-5c0d-4588-82b3-74feefce7397",
   "metadata": {},
   "source": [
    "Random forest are just one example of ensemble learning. Just means to use multiple models to solve the same problem, and let them vote on the result\n",
    "\n",
    "- Random forest uses bagging to implement ensemble learning\n",
    "    - many models are build by training on randomly-drawn subsets of the data\n",
    "- *Boosting* is an alternative technique where each subsequent model in the ensenble boosts attributes that address mis-classified by the previous model\n",
    "- A *bucket of models* tains several different models using training data, and picks the one that work best withe the test data\n",
    "- *Stacking* runs multiple models at once on the data, and combines the results together\n",
    "\n",
    "## Advanced Ensemble Learning:\n",
    "- Bayes Optimal Classifier\n",
    "- Bayesian Parameter Averaging\n",
    "- Bayesian Model Combination\n",
    "\n",
    "## XGBoost\n",
    "- eXtreme Gradient Boosted Trees\n",
    "- Each tree boosts attributes that led to missclassifications of previous trees\n",
    "\n",
    "## Features of XGBoost\n",
    "- Regularized boosting (prevent overfitting)\n",
    "- Can handle missing values automatically\n",
    "- Parallel processing\n",
    "- Can cross-validate at each iteration\n",
    "  - Enables early stopping, finding optimal number of iterations\n",
    "- Incremental training\n",
    "- Can plug in your own optimization objectives\n",
    "- Tree pruning\n",
    "  - Generally results in deeper, but optimized, trees\n",
    " \n",
    "## XGBoost Hyperparameters\n",
    "- Booster\n",
    "    - gbtree or gblinear\n",
    "- Objective (multi:softmax, multi:softprob)\n",
    "- Eta (learning rate - Adjusts weights on each step)\n",
    "- Max_depth (depth of the tree)\n",
    "- Min_child_weight\n",
    "    - Can control overfitting, but not too high will underfit\n"
   ]
  },
  {
   "cell_type": "markdown",
   "id": "c3574482-d188-4b2f-8c78-615be5a4fd3d",
   "metadata": {},
   "source": [
    "# Code"
   ]
  },
  {
   "cell_type": "code",
   "execution_count": 2,
   "id": "20731ef7-2211-44a1-a2ee-d28f7cae2845",
   "metadata": {},
   "outputs": [
    {
     "name": "stdout",
     "output_type": "stream",
     "text": [
      "150\n",
      "4\n",
      "['setosa', 'versicolor', 'virginica']\n"
     ]
    }
   ],
   "source": [
    "from sklearn.datasets import load_iris\n",
    "\n",
    "# Carrega o conjunto de dados Iris\n",
    "iris = load_iris()\n",
    "\n",
    "# Obtém o número de amostras e o número de características\n",
    "numSamples, numFeatures = iris.data.shape\n",
    "\n",
    "# Exibe informações do dataset\n",
    "print(numSamples)\n",
    "print(numFeatures)\n",
    "print(list(iris.target_names))"
   ]
  },
  {
   "cell_type": "code",
   "execution_count": 3,
   "id": "b0b809dc-6c4c-4f09-9572-b3826fccbf13",
   "metadata": {},
   "outputs": [],
   "source": [
    "# Importa as bibliotecas\n",
    "from sklearn.model_selection import train_test_split\n",
    "\n",
    "# Divide em conjuntos de treino e teste\n",
    "X_train, X_test, y_train, y_test = train_test_split(iris.data, iris.target, test_size=0.2, random_state=0)"
   ]
  },
  {
   "cell_type": "code",
   "execution_count": 4,
   "id": "2371de26-475e-4d6f-8f15-d9bfd0e66a89",
   "metadata": {},
   "outputs": [],
   "source": [
    "# Importa o xgboost\n",
    "import xgboost as xgb\n",
    "\n",
    "# # Cria o DMatrix para o conjunto de treino e teste com os dados e rótulos\n",
    "train = xgb.DMatrix(X_train, label=y_train)\n",
    "test = xgb.DMatrix(X_test, label=y_test)"
   ]
  },
  {
   "cell_type": "code",
   "execution_count": 5,
   "id": "59ccfacf-4ab0-4f67-b1f9-73473910f70e",
   "metadata": {},
   "outputs": [],
   "source": [
    "# Definição dos hiperparâmetros para o modelo XGBoost\n",
    "param = {\n",
    "    'max_depth': 4,                # Profundidade máxima das árvores de decisão\n",
    "    'eta': 0.3,                    # Taxa de aprendizado\n",
    "    'objective': 'multi:softmax',  # Tipo de problema (classificação multiclasse com saída discreta)\n",
    "    'num_class': 3                 # Número de classes (para o dataset Iris, são 3)\n",
    "}\n",
    "# Número de épocas (iterações de treinamento)\n",
    "epochs = 10"
   ]
  },
  {
   "cell_type": "code",
   "execution_count": 6,
   "id": "dc603646-854d-4b49-b517-31ab3c96cf77",
   "metadata": {},
   "outputs": [],
   "source": [
    "# Treina o modelo\n",
    "model = xgb.train(param, train, epochs)"
   ]
  },
  {
   "cell_type": "code",
   "execution_count": 7,
   "id": "df97b605-494d-42db-8f9d-0274195624cb",
   "metadata": {},
   "outputs": [],
   "source": [
    "# Realiza predições com o conjunto de testes\n",
    "predictions = model.predict(test)"
   ]
  },
  {
   "cell_type": "code",
   "execution_count": 8,
   "id": "c1e63501-7391-48f2-b374-876996c88aa6",
   "metadata": {},
   "outputs": [
    {
     "name": "stdout",
     "output_type": "stream",
     "text": [
      "[2. 1. 0. 2. 0. 2. 0. 1. 1. 1. 2. 1. 1. 1. 1. 0. 1. 1. 0. 0. 2. 1. 0. 0.\n",
      " 2. 0. 0. 1. 1. 0.]\n"
     ]
    }
   ],
   "source": [
    "# Printa as predições\n",
    "print(predictions)"
   ]
  },
  {
   "cell_type": "code",
   "execution_count": 9,
   "id": "b2856943-5897-479e-8bfb-04be39d9990c",
   "metadata": {},
   "outputs": [
    {
     "data": {
      "text/plain": [
       "1.0"
      ]
     },
     "execution_count": 9,
     "metadata": {},
     "output_type": "execute_result"
    }
   ],
   "source": [
    "# Mede a precisão do modelo\n",
    "from sklearn.metrics import accuracy_score\n",
    "\n",
    "accuracy_score(y_test, predictions)"
   ]
  },
  {
   "cell_type": "markdown",
   "id": "89cf6a56-37c7-4102-b172-8264ae16a281",
   "metadata": {},
   "source": [
    "## Activity"
   ]
  },
  {
   "cell_type": "code",
   "execution_count": 10,
   "id": "69650445-8767-42ff-a0f9-94be9ae5b2df",
   "metadata": {},
   "outputs": [
    {
     "data": {
      "text/plain": [
       "1.0"
      ]
     },
     "execution_count": 10,
     "metadata": {},
     "output_type": "execute_result"
    }
   ],
   "source": [
    "# Metade dos epochs\n",
    "param = {\n",
    "    'max_depth': 4,\n",
    "    'eta': 0.3,\n",
    "    'objective': 'multi:softmax',\n",
    "    'num_class': 3} \n",
    "epochs = 5\n",
    "\n",
    "model = xgb.train(param, train, epochs)\n",
    "\n",
    "predictions = model.predict(test)\n",
    "accuracy_score(y_test, predictions)"
   ]
  },
  {
   "cell_type": "code",
   "execution_count": 11,
   "id": "bc4f999f-00ce-43f3-bafb-ef15a88cc919",
   "metadata": {},
   "outputs": [
    {
     "data": {
      "text/plain": [
       "1.0"
      ]
     },
     "execution_count": 11,
     "metadata": {},
     "output_type": "execute_result"
    }
   ],
   "source": [
    "# Metade dos epochs e metade do learning rate\n",
    "param = {\n",
    "    'max_depth': 4,\n",
    "    'eta': 0.15,\n",
    "    'objective': 'multi:softmax',\n",
    "    'num_class': 3} \n",
    "epochs = 5\n",
    "\n",
    "model = xgb.train(param, train, epochs)\n",
    "\n",
    "predictions = model.predict(test)\n",
    "accuracy_score(y_test, predictions)"
   ]
  },
  {
   "cell_type": "code",
   "execution_count": 12,
   "id": "7317bed9-f996-4e3a-95f5-078e7287b262",
   "metadata": {},
   "outputs": [
    {
     "data": {
      "text/plain": [
       "0.9666666666666667"
      ]
     },
     "execution_count": 12,
     "metadata": {},
     "output_type": "execute_result"
    }
   ],
   "source": [
    "# Metade dos epochs e metade do learning \n",
    "# Metade da profundidade maxima\n",
    "param = {\n",
    "    'max_depth': 2,\n",
    "    'eta': 0.15,\n",
    "    'objective': 'multi:softmax',\n",
    "    'num_class': 3} \n",
    "epochs = 5\n",
    "\n",
    "model = xgb.train(param, train, epochs)\n",
    "\n",
    "predictions = model.predict(test)\n",
    "accuracy_score(y_test, predictions)"
   ]
  },
  {
   "cell_type": "code",
   "execution_count": 18,
   "id": "412ea294-e347-4ab9-9e52-99e6eadd0f34",
   "metadata": {},
   "outputs": [
    {
     "data": {
      "text/plain": [
       "1.0"
      ]
     },
     "execution_count": 18,
     "metadata": {},
     "output_type": "execute_result"
    }
   ],
   "source": [
    "# 1 epoch e 1/1000 do learning rate\n",
    "param = {\n",
    "    'max_depth': 4,\n",
    "    'eta': 0.0003,\n",
    "    'objective': 'multi:softmax',\n",
    "    'num_class': 3} \n",
    "epochs = 1\n",
    "\n",
    "model = xgb.train(param, train, epochs)\n",
    "\n",
    "predictions = model.predict(test)\n",
    "accuracy_score(y_test, predictions)"
   ]
  },
  {
   "cell_type": "code",
   "execution_count": 36,
   "id": "d69198aa-52a2-4510-8ff3-7b74eb4fd4b9",
   "metadata": {},
   "outputs": [
    {
     "data": {
      "text/plain": [
       "0.9333333333333333"
      ]
     },
     "execution_count": 36,
     "metadata": {},
     "output_type": "execute_result"
    }
   ],
   "source": [
    "# Learning rate em 0.00000003\n",
    "param = {\n",
    "    'max_depth': 4,\n",
    "    'eta': 0.00000003,\n",
    "    'objective': 'multi:softmax',\n",
    "    'num_class': 3} \n",
    "epochs = 10\n",
    "\n",
    "model = xgb.train(param, train, epochs)\n",
    "\n",
    "predictions = model.predict(test)\n",
    "accuracy_score(y_test, predictions)"
   ]
  },
  {
   "cell_type": "code",
   "execution_count": null,
   "id": "313d5386-8ae1-46e4-bd09-c1e160e7046b",
   "metadata": {},
   "outputs": [],
   "source": []
  }
 ],
 "metadata": {
  "kernelspec": {
   "display_name": "Python 3 (ipykernel)",
   "language": "python",
   "name": "python3"
  },
  "language_info": {
   "codemirror_mode": {
    "name": "ipython",
    "version": 3
   },
   "file_extension": ".py",
   "mimetype": "text/x-python",
   "name": "python",
   "nbconvert_exporter": "python",
   "pygments_lexer": "ipython3",
   "version": "3.11.9"
  }
 },
 "nbformat": 4,
 "nbformat_minor": 5
}
