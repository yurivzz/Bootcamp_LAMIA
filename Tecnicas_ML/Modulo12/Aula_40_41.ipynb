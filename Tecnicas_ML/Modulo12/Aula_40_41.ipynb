{
 "cells": [
  {
   "cell_type": "markdown",
   "id": "ace1fa55-850d-4860-bc16-09f2b92b2202",
   "metadata": {},
   "source": [
    "# Decision Trees\n",
    "It's an form of supervisioned learning, that makes decisions based on trees (the data structure).\n",
    "The whole point is make an tree, based on the data, that can make decisions based on a set of variables."
   ]
  },
  {
   "cell_type": "markdown",
   "id": "cbf12e25-903e-4a4a-b5d5-759036b8a083",
   "metadata": {},
   "source": [
    "## Example\n",
    "Create a decision tree based on historical hiring data. The algorithm to build the tree will use information such as years of experience, level of education, whether the candidate is currently employed, and whether the candidate accepted the job offer. With the tree built, we can use new data to make predictions.\n",
    "\n",
    "\n",
    "## How it works?\n",
    "- At each step, find the attribute that can be used to partition the data set to minimize entropy of the data.\n",
    "- The name of the algorithm is ID3.\n",
    "- Its a greedy algorithm (try the best step every time) - as it goes down the tree, picks the decision that reduce entropy the most at that stage.\n",
    "    - that might not actually result in an optimal tree (if is the same logic of the coin problem, DP just solve it)\n",
    "    - BUt it works\n",
    "\n",
    "\n",
    "## Random Forests\n",
    "- Decision trees are very susceptible to overfitting.\n",
    "- To fight this, we can construct several alternate decision trees, and let them vote on the final classification.\n",
    "    - Randomly re-sample the input data for each tree (bootstrap aggregating or bagging)\n",
    "    - Randomize a subset of the attributes each step is allowed to choose from"
   ]
  },
  {
   "cell_type": "markdown",
   "id": "f0fffea1-3ba4-4040-9ce1-1e6297d29878",
   "metadata": {},
   "source": [
    "# Code"
   ]
  },
  {
   "cell_type": "code",
   "execution_count": 53,
   "id": "d153fa52-609a-4b12-8dbd-859035805a54",
   "metadata": {},
   "outputs": [],
   "source": [
    "# Import das bibliotecas\n",
    "import numpy as np\n",
    "import pandas as pd\n",
    "from sklearn import tree\n",
    "\n",
    "# Import dos dados\n",
    "input_file = \"PastHires.csv\"\n",
    "df = pd.read_csv(input_file, header = 0)"
   ]
  },
  {
   "cell_type": "code",
   "execution_count": 54,
   "id": "06e426ea-9d10-41db-8019-c7082cb8a178",
   "metadata": {},
   "outputs": [
    {
     "data": {
      "text/html": [
       "<div>\n",
       "<style scoped>\n",
       "    .dataframe tbody tr th:only-of-type {\n",
       "        vertical-align: middle;\n",
       "    }\n",
       "\n",
       "    .dataframe tbody tr th {\n",
       "        vertical-align: top;\n",
       "    }\n",
       "\n",
       "    .dataframe thead th {\n",
       "        text-align: right;\n",
       "    }\n",
       "</style>\n",
       "<table border=\"1\" class=\"dataframe\">\n",
       "  <thead>\n",
       "    <tr style=\"text-align: right;\">\n",
       "      <th></th>\n",
       "      <th>Years Experience</th>\n",
       "      <th>Employed?</th>\n",
       "      <th>Previous employers</th>\n",
       "      <th>Level of Education</th>\n",
       "      <th>Top-tier school</th>\n",
       "      <th>Interned</th>\n",
       "      <th>Hired</th>\n",
       "    </tr>\n",
       "  </thead>\n",
       "  <tbody>\n",
       "    <tr>\n",
       "      <th>0</th>\n",
       "      <td>10</td>\n",
       "      <td>Y</td>\n",
       "      <td>4</td>\n",
       "      <td>BS</td>\n",
       "      <td>N</td>\n",
       "      <td>N</td>\n",
       "      <td>Y</td>\n",
       "    </tr>\n",
       "    <tr>\n",
       "      <th>1</th>\n",
       "      <td>0</td>\n",
       "      <td>N</td>\n",
       "      <td>0</td>\n",
       "      <td>BS</td>\n",
       "      <td>Y</td>\n",
       "      <td>Y</td>\n",
       "      <td>Y</td>\n",
       "    </tr>\n",
       "    <tr>\n",
       "      <th>2</th>\n",
       "      <td>7</td>\n",
       "      <td>N</td>\n",
       "      <td>6</td>\n",
       "      <td>BS</td>\n",
       "      <td>N</td>\n",
       "      <td>N</td>\n",
       "      <td>N</td>\n",
       "    </tr>\n",
       "    <tr>\n",
       "      <th>3</th>\n",
       "      <td>2</td>\n",
       "      <td>Y</td>\n",
       "      <td>1</td>\n",
       "      <td>MS</td>\n",
       "      <td>Y</td>\n",
       "      <td>N</td>\n",
       "      <td>Y</td>\n",
       "    </tr>\n",
       "    <tr>\n",
       "      <th>4</th>\n",
       "      <td>20</td>\n",
       "      <td>N</td>\n",
       "      <td>2</td>\n",
       "      <td>PhD</td>\n",
       "      <td>Y</td>\n",
       "      <td>N</td>\n",
       "      <td>N</td>\n",
       "    </tr>\n",
       "  </tbody>\n",
       "</table>\n",
       "</div>"
      ],
      "text/plain": [
       "   Years Experience Employed?  Previous employers Level of Education  \\\n",
       "0                10         Y                   4                 BS   \n",
       "1                 0         N                   0                 BS   \n",
       "2                 7         N                   6                 BS   \n",
       "3                 2         Y                   1                 MS   \n",
       "4                20         N                   2                PhD   \n",
       "\n",
       "  Top-tier school Interned Hired  \n",
       "0               N        N     Y  \n",
       "1               Y        Y     Y  \n",
       "2               N        N     N  \n",
       "3               Y        N     Y  \n",
       "4               Y        N     N  "
      ]
     },
     "execution_count": 54,
     "metadata": {},
     "output_type": "execute_result"
    }
   ],
   "source": [
    "df.head()"
   ]
  },
  {
   "cell_type": "code",
   "execution_count": 55,
   "id": "05f6a42b-0ce0-4d69-8302-4999e6fbd588",
   "metadata": {},
   "outputs": [
    {
     "data": {
      "text/html": [
       "<div>\n",
       "<style scoped>\n",
       "    .dataframe tbody tr th:only-of-type {\n",
       "        vertical-align: middle;\n",
       "    }\n",
       "\n",
       "    .dataframe tbody tr th {\n",
       "        vertical-align: top;\n",
       "    }\n",
       "\n",
       "    .dataframe thead th {\n",
       "        text-align: right;\n",
       "    }\n",
       "</style>\n",
       "<table border=\"1\" class=\"dataframe\">\n",
       "  <thead>\n",
       "    <tr style=\"text-align: right;\">\n",
       "      <th></th>\n",
       "      <th>Years Experience</th>\n",
       "      <th>Employed?</th>\n",
       "      <th>Previous employers</th>\n",
       "      <th>Level of Education</th>\n",
       "      <th>Top-tier school</th>\n",
       "      <th>Interned</th>\n",
       "      <th>Hired</th>\n",
       "    </tr>\n",
       "  </thead>\n",
       "  <tbody>\n",
       "    <tr>\n",
       "      <th>0</th>\n",
       "      <td>10</td>\n",
       "      <td>1</td>\n",
       "      <td>4</td>\n",
       "      <td>0</td>\n",
       "      <td>0</td>\n",
       "      <td>0</td>\n",
       "      <td>1</td>\n",
       "    </tr>\n",
       "    <tr>\n",
       "      <th>1</th>\n",
       "      <td>0</td>\n",
       "      <td>0</td>\n",
       "      <td>0</td>\n",
       "      <td>0</td>\n",
       "      <td>1</td>\n",
       "      <td>1</td>\n",
       "      <td>1</td>\n",
       "    </tr>\n",
       "    <tr>\n",
       "      <th>2</th>\n",
       "      <td>7</td>\n",
       "      <td>0</td>\n",
       "      <td>6</td>\n",
       "      <td>0</td>\n",
       "      <td>0</td>\n",
       "      <td>0</td>\n",
       "      <td>0</td>\n",
       "    </tr>\n",
       "    <tr>\n",
       "      <th>3</th>\n",
       "      <td>2</td>\n",
       "      <td>1</td>\n",
       "      <td>1</td>\n",
       "      <td>1</td>\n",
       "      <td>1</td>\n",
       "      <td>0</td>\n",
       "      <td>1</td>\n",
       "    </tr>\n",
       "    <tr>\n",
       "      <th>4</th>\n",
       "      <td>20</td>\n",
       "      <td>0</td>\n",
       "      <td>2</td>\n",
       "      <td>2</td>\n",
       "      <td>1</td>\n",
       "      <td>0</td>\n",
       "      <td>0</td>\n",
       "    </tr>\n",
       "  </tbody>\n",
       "</table>\n",
       "</div>"
      ],
      "text/plain": [
       "   Years Experience  Employed?  Previous employers  Level of Education  \\\n",
       "0                10          1                   4                   0   \n",
       "1                 0          0                   0                   0   \n",
       "2                 7          0                   6                   0   \n",
       "3                 2          1                   1                   1   \n",
       "4                20          0                   2                   2   \n",
       "\n",
       "   Top-tier school  Interned  Hired  \n",
       "0                0         0      1  \n",
       "1                1         1      1  \n",
       "2                0         0      0  \n",
       "3                1         0      1  \n",
       "4                1         0      0  "
      ]
     },
     "execution_count": 55,
     "metadata": {},
     "output_type": "execute_result"
    }
   ],
   "source": [
    "# Muda as respostas Y e N para 1 e 0 (o algoritmo precisa dessa limpeza dos dados para funcionar)\n",
    "# É necessario que os dados sejam numericos\n",
    "d = {'Y': 1, 'N': 0}\n",
    "df['Hired'] = df['Hired'].map(d)\n",
    "df['Employed?'] = df['Employed?'].map(d)\n",
    "df['Top-tier school'] = df['Top-tier school'].map(d)\n",
    "df['Interned'] = df['Interned'].map(d)\n",
    "d = {'BS': 0, 'MS': 1, 'PhD': 2}\n",
    "df['Level of Education'] = df['Level of Education'].map(d)\n",
    "df.head()"
   ]
  },
  {
   "cell_type": "code",
   "execution_count": 56,
   "id": "5a023453-8683-45ac-b78d-515df4e6b3d1",
   "metadata": {},
   "outputs": [
    {
     "data": {
      "text/plain": [
       "['Years Experience',\n",
       " 'Employed?',\n",
       " 'Previous employers',\n",
       " 'Level of Education',\n",
       " 'Top-tier school',\n",
       " 'Interned']"
      ]
     },
     "execution_count": 56,
     "metadata": {},
     "output_type": "execute_result"
    }
   ],
   "source": [
    "# Separa as features das respostas (ser contratado ou não)\n",
    "features = list(df.columns[:6])\n",
    "features"
   ]
  },
  {
   "cell_type": "code",
   "execution_count": 57,
   "id": "9233af7f-5288-4157-b169-1ad95f946d33",
   "metadata": {},
   "outputs": [],
   "source": [
    "# Justamente o que eu falei, cria um dataset para as respostas (y) e um\n",
    "# Para as caracteristicas do candidato (X)\n",
    "y = df[\"Hired\"]\n",
    "X = df[features]\n",
    "# Instancia o classifiador e executa o algoritmo para X e y\n",
    "clf = tree.DecisionTreeClassifier()\n",
    "clf = clf.fit(X,y)"
   ]
  },
  {
   "cell_type": "code",
   "execution_count": 58,
   "id": "78c2be8d-d8c8-4f9d-abd7-9aa771c73a5a",
   "metadata": {},
   "outputs": [
    {
     "data": {
      "image/png": "[encoded data removed]",
      "text/plain": [
       "<IPython.core.display.Image object>"
      ]
     },
     "execution_count": 58,
     "metadata": {},
     "output_type": "execute_result"
    }
   ],
   "source": [
    "# import das bibliotecas\n",
    "from IPython.display import Image  \n",
    "from io import StringIO  \n",
    "# Essa biblioteca oferece comunicação com a graphivz\n",
    "import pydotplus\n",
    "\n",
    "# Gera a imagem utilizando a graphviz, onde podemos vizualizar a arvore\n",
    "dot_data = StringIO()  \n",
    "tree.export_graphviz(clf, out_file=dot_data,  \n",
    "                         feature_names=features)  \n",
    "graph = pydotplus.graph_from_dot_data(dot_data.getvalue())  \n",
    "Image(graph.create_png())  "
   ]
  },
  {
   "cell_type": "code",
   "execution_count": 60,
   "id": "e2adf6bc-ba12-405b-ab21-b2f42d3aaf45",
   "metadata": {
    "scrolled": true
   },
   "outputs": [
    {
     "name": "stdout",
     "output_type": "stream",
     "text": [
      "[1]\n",
      "[0]\n"
     ]
    },
    {
     "name": "stderr",
     "output_type": "stream",
     "text": [
      "/home/yurivzz/.local/lib/python3.11/site-packages/sklearn/base.py:493: UserWarning: X does not have valid feature names, but RandomForestClassifier was fitted with feature names\n",
      "  warnings.warn(\n",
      "/home/yurivzz/.local/lib/python3.11/site-packages/sklearn/base.py:493: UserWarning: X does not have valid feature names, but RandomForestClassifier was fitted with feature names\n",
      "  warnings.warn(\n"
     ]
    }
   ],
   "source": [
    "# Gera uma random forest\n",
    "from sklearn.ensemble import RandomForestClassifier\n",
    "\n",
    "# Como a decision tree, veio do pacote sklearn\n",
    "clf = RandomForestClassifier(n_estimators=10)\n",
    "clf = clf.fit(X, y)\n",
    "\n",
    "# Previsoes realizadas\n",
    "#Predict employment of an employed 10-year veteran\n",
    "print (clf.predict([[10, 1, 4, 0, 0, 0]]))\n",
    "#...and an unemployed 10-year veteran\n",
    "print (clf.predict([[10, 0, 4, 0, 0, 0]]))"
   ]
  },
  {
   "cell_type": "markdown",
   "id": "43c3df63-c1ad-4eea-bd2c-73225761d7c5",
   "metadata": {},
   "source": [
    "## Activity"
   ]
  },
  {
   "cell_type": "code",
   "execution_count": 44,
   "id": "ece15a9b-25dc-4ba2-b290-b475b7074c06",
   "metadata": {},
   "outputs": [],
   "source": [
    "# modificando os dados para inverter as contratações (basicamente neagar a coluna hiring)\n",
    "neg_y = y.copy()"
   ]
  },
  {
   "cell_type": "code",
   "execution_count": 72,
   "id": "d2480367-06a8-4d42-a3ba-1decef3fee53",
   "metadata": {},
   "outputs": [],
   "source": [
    "# Dados invertidos\n",
    "neg_y = neg_y.apply(lambda x: int(not x))"
   ]
  },
  {
   "cell_type": "code",
   "execution_count": 119,
   "id": "556fb274-0ee8-4b6f-8625-b0ad47e58dbb",
   "metadata": {},
   "outputs": [],
   "source": [
    "# Arvore normal\n",
    "clf_1 = tree.DecisionTreeClassifier()\n",
    "clf_1 = clf_1.fit(X, y)"
   ]
  },
  {
   "cell_type": "code",
   "execution_count": 101,
   "id": "6fa62750-9978-4bb9-acc6-f9a0b52586c4",
   "metadata": {},
   "outputs": [],
   "source": [
    "# Cria a nova arvore \"invertida\"\n",
    "clf_2 = tree.DecisionTreeClassifier()\n",
    "clf_2 = clf_2.fit(X,neg_y)"
   ]
  },
  {
   "cell_type": "code",
   "execution_count": 102,
   "id": "86b78f83-c788-4aeb-b99e-5d5acbfabb7f",
   "metadata": {},
   "outputs": [],
   "source": [
    "# Random forest normal\n",
    "clf_3 = RandomForestClassifier(n_estimators=10)\n",
    "clf_3 = clf_3.fit(X, y)"
   ]
  },
  {
   "cell_type": "code",
   "execution_count": 103,
   "id": "f4db6b33-046b-418b-832b-267e33c57ef2",
   "metadata": {},
   "outputs": [],
   "source": [
    "# Random forest invertida\n",
    "clf_4 = RandomForestClassifier(n_estimators=10)\n",
    "clf_4 = clf_4.fit(X, neg_y)"
   ]
  },
  {
   "cell_type": "code",
   "execution_count": 121,
   "id": "8a66844b-6709-4a10-8527-b81401af7de0",
   "metadata": {},
   "outputs": [
    {
     "name": "stdout",
     "output_type": "stream",
     "text": [
      "[1]\n",
      "[0]\n",
      "[1]\n",
      "[0]\n"
     ]
    },
    {
     "name": "stderr",
     "output_type": "stream",
     "text": [
      "/home/yurivzz/.local/lib/python3.11/site-packages/sklearn/base.py:493: UserWarning: X does not have valid feature names, but DecisionTreeClassifier was fitted with feature names\n",
      "  warnings.warn(\n",
      "/home/yurivzz/.local/lib/python3.11/site-packages/sklearn/base.py:493: UserWarning: X does not have valid feature names, but DecisionTreeClassifier was fitted with feature names\n",
      "  warnings.warn(\n",
      "/home/yurivzz/.local/lib/python3.11/site-packages/sklearn/base.py:493: UserWarning: X does not have valid feature names, but DecisionTreeClassifier was fitted with feature names\n",
      "  warnings.warn(\n",
      "/home/yurivzz/.local/lib/python3.11/site-packages/sklearn/base.py:493: UserWarning: X does not have valid feature names, but DecisionTreeClassifier was fitted with feature names\n",
      "  warnings.warn(\n"
     ]
    }
   ],
   "source": [
    "# Resposta esperada\n",
    "print(clf_1.predict([[10, 1, 4, 0, 0, 0]]))\n",
    "print(clf_1.predict([[10, 0, 4, 0, 0, 0]]))\n",
    "print(clf_1.predict([[3, 0, 0, 3, 1, 0]]))\n",
    "print(clf_1.predict([[0, 0, 0, 0, 0, 0]]))"
   ]
  },
  {
   "cell_type": "code",
   "execution_count": 105,
   "id": "eaf74e08-e73a-4efd-bdc8-14d7f084fdba",
   "metadata": {},
   "outputs": [
    {
     "name": "stdout",
     "output_type": "stream",
     "text": [
      "[0]\n",
      "[1]\n",
      "[0]\n",
      "[1]\n"
     ]
    },
    {
     "name": "stderr",
     "output_type": "stream",
     "text": [
      "/home/yurivzz/.local/lib/python3.11/site-packages/sklearn/base.py:493: UserWarning: X does not have valid feature names, but DecisionTreeClassifier was fitted with feature names\n",
      "  warnings.warn(\n",
      "/home/yurivzz/.local/lib/python3.11/site-packages/sklearn/base.py:493: UserWarning: X does not have valid feature names, but DecisionTreeClassifier was fitted with feature names\n",
      "  warnings.warn(\n",
      "/home/yurivzz/.local/lib/python3.11/site-packages/sklearn/base.py:493: UserWarning: X does not have valid feature names, but DecisionTreeClassifier was fitted with feature names\n",
      "  warnings.warn(\n",
      "/home/yurivzz/.local/lib/python3.11/site-packages/sklearn/base.py:493: UserWarning: X does not have valid feature names, but DecisionTreeClassifier was fitted with feature names\n",
      "  warnings.warn(\n"
     ]
    }
   ],
   "source": [
    "# Resposta invertida\n",
    "print(clf_2.predict([[10, 1, 4, 0, 0, 0]]))\n",
    "print(clf_2.predict([[10, 0, 4, 0, 0, 0]]))\n",
    "print(clf_2.predict([[3, 0, 0, 3, 1, 0]]))\n",
    "print(clf_2.predict([[0, 0, 0, 0, 0, 0]]))"
   ]
  },
  {
   "cell_type": "code",
   "execution_count": 106,
   "id": "e0292ab0-defc-4553-ae6f-25ab52ffd575",
   "metadata": {},
   "outputs": [
    {
     "name": "stdout",
     "output_type": "stream",
     "text": [
      "[1]\n",
      "[0]\n",
      "[1]\n",
      "[0]\n"
     ]
    },
    {
     "name": "stderr",
     "output_type": "stream",
     "text": [
      "/home/yurivzz/.local/lib/python3.11/site-packages/sklearn/base.py:493: UserWarning: X does not have valid feature names, but RandomForestClassifier was fitted with feature names\n",
      "  warnings.warn(\n",
      "/home/yurivzz/.local/lib/python3.11/site-packages/sklearn/base.py:493: UserWarning: X does not have valid feature names, but RandomForestClassifier was fitted with feature names\n",
      "  warnings.warn(\n",
      "/home/yurivzz/.local/lib/python3.11/site-packages/sklearn/base.py:493: UserWarning: X does not have valid feature names, but RandomForestClassifier was fitted with feature names\n",
      "  warnings.warn(\n",
      "/home/yurivzz/.local/lib/python3.11/site-packages/sklearn/base.py:493: UserWarning: X does not have valid feature names, but RandomForestClassifier was fitted with feature names\n",
      "  warnings.warn(\n"
     ]
    }
   ],
   "source": [
    "# Resposta esperada\n",
    "print(clf_3.predict([[10, 1, 4, 0, 0, 0]]))\n",
    "print(clf_3.predict([[10, 0, 4, 0, 0, 0]]))\n",
    "print(clf_3.predict([[3, 0, 0, 3, 1, 0]]))\n",
    "print(clf_3.predict([[0, 0, 0, 0, 0, 0]]))"
   ]
  },
  {
   "cell_type": "code",
   "execution_count": 122,
   "id": "9fad31f3-c0d8-4572-8d1e-4d5a0a9537c5",
   "metadata": {},
   "outputs": [
    {
     "name": "stdout",
     "output_type": "stream",
     "text": [
      "[0]\n",
      "[1]\n",
      "[0]\n",
      "[1]\n"
     ]
    },
    {
     "name": "stderr",
     "output_type": "stream",
     "text": [
      "/home/yurivzz/.local/lib/python3.11/site-packages/sklearn/base.py:493: UserWarning: X does not have valid feature names, but RandomForestClassifier was fitted with feature names\n",
      "  warnings.warn(\n",
      "/home/yurivzz/.local/lib/python3.11/site-packages/sklearn/base.py:493: UserWarning: X does not have valid feature names, but RandomForestClassifier was fitted with feature names\n",
      "  warnings.warn(\n",
      "/home/yurivzz/.local/lib/python3.11/site-packages/sklearn/base.py:493: UserWarning: X does not have valid feature names, but RandomForestClassifier was fitted with feature names\n",
      "  warnings.warn(\n",
      "/home/yurivzz/.local/lib/python3.11/site-packages/sklearn/base.py:493: UserWarning: X does not have valid feature names, but RandomForestClassifier was fitted with feature names\n",
      "  warnings.warn(\n"
     ]
    }
   ],
   "source": [
    "# Resposta invertida\n",
    "print(clf_4.predict([[10, 1, 4, 0, 0, 0]]))\n",
    "print(clf_4.predict([[10, 0, 4, 0, 0, 0]]))\n",
    "print(clf_4.predict([[3, 0, 0, 3, 1, 0]]))\n",
    "print(clf_4.predict([[0, 0, 0, 0, 0, 0]]))"
   ]
  }
 ],
 "metadata": {
  "kernelspec": {
   "display_name": "Python 3 (ipykernel)",
   "language": "python",
   "name": "python3"
  },
  "language_info": {
   "codemirror_mode": {
    "name": "ipython",
    "version": 3
   },
   "file_extension": ".py",
   "mimetype": "text/x-python",
   "name": "python",
   "nbconvert_exporter": "python",
   "pygments_lexer": "ipython3",
   "version": "3.11.9"
  }
 },
 "nbformat": 4,
 "nbformat_minor": 5
}
