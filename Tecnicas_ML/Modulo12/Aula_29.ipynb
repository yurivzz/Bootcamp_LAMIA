{
 "cells": [
  {
   "cell_type": "markdown",
   "id": "ac11c72b-0c98-48ed-b746-4076d0edf1a7",
   "metadata": {},
   "source": [
    "# Muti-Level Models \n",
    "- The concept ist taht some effects happen at various levels\n",
    "- Example: Your health depends on a hierarchy of the health of your cells, organs, you as a whole, your family, your city, and the world you live in\n",
    "- Your wealth depends on your work, what your parents did, what their parents did, etc\n",
    "- Multi-level models attempt to model and account for these interdependencies"
   ]
  },
  {
   "cell_type": "markdown",
   "id": "9690766a-1dfc-49ee-a885-aaadaa864d42",
   "metadata": {},
   "source": [
    "# Modeling Multiple Levels\n",
    "- Identify the factors that affect the outcome that we are trying to predict\n",
    "- Example: SAT scores might be predicted based on the genetics of individual children, the home environment, crime rate of neighborhood, quality of teachers, funding of the school, education policies etc\n",
    "- Some of these factors affect more than one level. For example, crime hate might influence the home environment too."
   ]
  },
  {
   "cell_type": "markdown",
   "id": "3370b6c6-9fc4-4c63-9118-20d14a0703e4",
   "metadata": {},
   "source": [
    "# Way too complex, yet\n",
    "- Entire courses on this topic exist, its just by the concept!"
   ]
  }
 ],
 "metadata": {
  "kernelspec": {
   "display_name": "",
   "name": ""
  },
  "language_info": {
   "name": ""
  }
 },
 "nbformat": 4,
 "nbformat_minor": 5
}
