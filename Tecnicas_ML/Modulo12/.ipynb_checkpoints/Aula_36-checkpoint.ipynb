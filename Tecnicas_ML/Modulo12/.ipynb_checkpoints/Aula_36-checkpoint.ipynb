{
 "cells": [
  {
   "cell_type": "markdown",
   "id": "9a59087f-22a8-4dcc-88b7-18d31d8cdefe",
   "metadata": {},
   "source": [
    "# Entropy"
   ]
  },
  {
   "cell_type": "markdown",
   "id": "6d3bd2d7-891a-41d0-9645-0567e304f3f9",
   "metadata": {},
   "source": [
    "Its a measure of a data set's dirorder - how same or diferent it is\n",
    "## Example\n",
    "If we classify a data set into N different classes (like a data set of animal attributes and their species)\n",
    "- The entropy is 0 if all of the classes in the data are the same (everione is an iguana)\n",
    "- The entropy is high if they're all different\n",
    "\n",
    "## Computing entropy\n",
    "$$ H(S) = -p_1ln(p_1)-...-p_nln(p_n) $$\n",
    "- $p_i$ represents the probability of the data labeled for each class\n"
   ]
  },
  {
   "cell_type": "code",
   "execution_count": null,
   "id": "317ff974-6291-4532-adc1-45904348a279",
   "metadata": {},
   "outputs": [],
   "source": []
  }
 ],
 "metadata": {
  "kernelspec": {
   "display_name": "Python 3 (ipykernel)",
   "language": "python",
   "name": "python3"
  },
  "language_info": {
   "codemirror_mode": {
    "name": "ipython",
    "version": 3
   },
   "file_extension": ".py",
   "mimetype": "text/x-python",
   "name": "python",
   "nbconvert_exporter": "python",
   "pygments_lexer": "ipython3",
   "version": "3.11.9"
  }
 },
 "nbformat": 4,
 "nbformat_minor": 5
}
