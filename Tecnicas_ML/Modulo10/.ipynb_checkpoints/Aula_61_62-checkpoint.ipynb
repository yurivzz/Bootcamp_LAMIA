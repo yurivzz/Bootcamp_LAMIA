{
 "cells": [
  {
   "cell_type": "markdown",
   "id": "7b36f73f-5da1-44b6-88ae-7f3742d07a6d",
   "metadata": {},
   "source": [
    "# Theory"
   ]
  },
  {
   "attachments": {},
   "cell_type": "markdown",
   "id": "0d46ce84-43b8-4588-80e2-332b046af726",
   "metadata": {},
   "source": [
    "## Bias and Variance\n",
    "- Bias is how far from the mean of the predicted values the actual anwser are\n",
    "- Variance is how scattered the predicted values are from the real answer\n",
    "\n",
    "## Error\n",
    "- Bias and variance both contribute to error\n",
    "\n",
    "$ Error = Bias^2 + Variance $\n",
    "\n",
    "- Its the error we wanna minimize, not bias or variance\n",
    "- A complex model will have high variance and low bias\n",
    "- A realy too simple model will have low variance and high bias\n",
    "- The optial complexity is on the middle\n",
    "\n",
    "## In earlier lessons \n",
    "- Increase K in KNN decrease variance and increase bias\n",
    "- A single decision tree is prone to overfitting - high variance (a random forest decreases that variance)\n",
    "\n",
    "## K-Fold Cross Validation\n",
    "A way to protect afainst overfitting\n",
    "The method is \n",
    "- Split the data into K randomly-assigned segments\n",
    "- Reserve one segment as test data\n",
    "- Train on the combined remaining K-1 segments\n",
    "- Measure the performance against the test set\n",
    "- Repeat for each segment\n",
    "- Take  the average of the K r-squared scores\n",
    " "
   ]
  },
  {
   "cell_type": "markdown",
   "id": "0a92a8dc-01ec-4d70-b20a-cc74020a4b1e",
   "metadata": {},
   "source": [
    "# Code\n",
    "\n",
    "- This is a model for a suport vector classificator using the iris dataset"
   ]
  },
  {
   "cell_type": "code",
   "execution_count": 1,
   "id": "a03b0d1f-b170-4cde-bd02-33d9e7a09696",
   "metadata": {},
   "outputs": [],
   "source": [
    "# Importação das bibliotecas\n",
    "import numpy as np\n",
    "from sklearn.model_selection import cross_val_score, train_test_split\n",
    "from sklearn import datasets\n",
    "from sklearn import svm\n",
    "\n",
    "iris = datasets.load_iris()\n"
   ]
  },
  {
   "cell_type": "code",
   "execution_count": 2,
   "id": "f81e1f44-d409-42e9-b6b9-6549de48afb4",
   "metadata": {},
   "outputs": [
    {
     "data": {
      "text/plain": [
       "0.9666666666666667"
      ]
     },
     "execution_count": 2,
     "metadata": {},
     "output_type": "execute_result"
    }
   ],
   "source": [
    "# Divide o dataset 40/60 para testes e treinamento\n",
    "X_train, X_test, y_train, y_test = train_test_split(iris.data, iris.target, test_size=0.4, random_state=0)\n",
    "\n",
    "# Cria um SVC linear (ax+b) para o modelo\n",
    "clf = svm.SVC(kernel='linear', C=1).fit(X_train, y_train)\n",
    "\n",
    "# Mede a performance do treinamento\n",
    "clf.score(X_test, y_test)   "
   ]
  },
  {
   "cell_type": "code",
   "execution_count": 3,
   "id": "106268ff-1fbd-4e94-9690-9697f1f8734c",
   "metadata": {},
   "outputs": [
    {
     "name": "stdout",
     "output_type": "stream",
     "text": [
      "[0.96666667 1.         0.96666667 0.96666667 1.        ]\n",
      "0.9800000000000001\n"
     ]
    }
   ],
   "source": [
    "# K-fold aplicado para 5 divisões que se alternam entre si para treinamento e teste\n",
    "scores = cross_val_score(clf, iris.data, iris.target, cv=5)\n",
    "\n",
    "# Precisão de cada divisao\n",
    "print(scores)\n",
    "\n",
    "# Media de todas\n",
    "print(scores.mean())"
   ]
  },
  {
   "cell_type": "code",
   "execution_count": 4,
   "id": "958c1640-518b-4188-8233-5463384a4cec",
   "metadata": {},
   "outputs": [
    {
     "name": "stdout",
     "output_type": "stream",
     "text": [
      "[0.96666667 1.         0.96666667 0.96666667 1.        ]\n",
      "0.9800000000000001\n"
     ]
    }
   ],
   "source": [
    "# Cria um classificador SVM com um kernel polinomial e parâmetro de regularização C=1\n",
    "clf = svm.SVC(kernel='poly', C=1)\n",
    "\n",
    "# Executa a K-fold com 5 divisões\n",
    "scores = cross_val_score(clf, iris.data, iris.target, cv=5)\n",
    "\n",
    "# Imprime as pontuações \n",
    "print(scores)\n",
    "\n",
    "# Imprime a média das pontuações \n",
    "print(scores.mean())"
   ]
  },
  {
   "cell_type": "code",
   "execution_count": 5,
   "id": "81f72cfe-cf6f-4a6b-8b96-b379fdf54066",
   "metadata": {},
   "outputs": [
    {
     "data": {
      "text/plain": [
       "0.9"
      ]
     },
     "execution_count": 5,
     "metadata": {},
     "output_type": "execute_result"
    }
   ],
   "source": [
    "# Cria um SVM polinomial com parametro de regularização C=1 utilizando os dados 40/60\n",
    "clf = svm.SVC(kernel='poly', C=1).fit(X_train, y_train)\n",
    "\n",
    "# Testa a performance\n",
    "clf.score(X_test, y_test)   "
   ]
  },
  {
   "cell_type": "markdown",
   "id": "8e02af75-42c1-454e-a1ed-ec02a2c8491b",
   "metadata": {},
   "source": [
    "## Activity"
   ]
  },
  {
   "cell_type": "code",
   "execution_count": 6,
   "id": "4e6e58ba-2e70-4a88-af52-3cb812e86e8a",
   "metadata": {},
   "outputs": [
    {
     "data": {
      "text/plain": [
       "0.9666666666666667"
      ]
     },
     "execution_count": 6,
     "metadata": {},
     "output_type": "execute_result"
    }
   ],
   "source": [
    "# Linear sem k-fold (controle)\n",
    "\n",
    "clf = svm.SVC(kernel='linear', C=1).fit(X_train, y_train)\n",
    "clf.score(X_test, y_test)   "
   ]
  },
  {
   "cell_type": "code",
   "execution_count": 10,
   "id": "a310212d-7720-40e3-a64d-19ad62ea4246",
   "metadata": {},
   "outputs": [
    {
     "name": "stdout",
     "output_type": "stream",
     "text": [
      "0.9800000000000001\n"
     ]
    }
   ],
   "source": [
    "# Linear com k-fold\n",
    "clf = svm.SVC(kernel='linear', C=1)\n",
    "scores = cross_val_score(clf, iris.data, iris.target, cv=5)\n",
    "print(scores.mean())"
   ]
  },
  {
   "cell_type": "code",
   "execution_count": 12,
   "id": "26a013b0-8389-4134-8bd2-acb11e69fa53",
   "metadata": {},
   "outputs": [
    {
     "name": "stdout",
     "output_type": "stream",
     "text": [
      "0.9800000000000001\n"
     ]
    }
   ],
   "source": [
    "# Polinomial grau 3 (Controle tb)\n",
    "clf = svm.SVC(kernel='poly', C=1)\n",
    "scores = cross_val_score(clf, iris.data, iris.target, cv=5)\n",
    "print(scores.mean())"
   ]
  },
  {
   "cell_type": "code",
   "execution_count": 13,
   "id": "abcf5df4-b430-41c2-b275-d16de4d7cc6f",
   "metadata": {},
   "outputs": [
    {
     "name": "stdout",
     "output_type": "stream",
     "text": [
      "0.9866666666666667\n"
     ]
    }
   ],
   "source": [
    "# Polinomial grau 2\n",
    "clf = svm.SVC(kernel='poly', degree=2, C=1)\n",
    "scores = cross_val_score(clf, iris.data, iris.target, cv=5)\n",
    "print(scores.mean())"
   ]
  },
  {
   "cell_type": "code",
   "execution_count": 15,
   "id": "58b96370-176b-4ab1-98cb-eb91096f6fbe",
   "metadata": {},
   "outputs": [
    {
     "name": "stdout",
     "output_type": "stream",
     "text": [
      "0.9666666666666666\n"
     ]
    }
   ],
   "source": [
    "# Polinomial grau 4\n",
    "clf = svm.SVC(kernel='poly', degree=4, C=1)\n",
    "scores = cross_val_score(clf, iris.data, iris.target, cv=5)\n",
    "print(scores.mean())"
   ]
  },
  {
   "cell_type": "code",
   "execution_count": 16,
   "id": "673e3f32-b155-400d-a0bf-f228ef199004",
   "metadata": {},
   "outputs": [
    {
     "name": "stdout",
     "output_type": "stream",
     "text": [
      "0.9733333333333334\n"
     ]
    }
   ],
   "source": [
    "# Polinomial grau 2 (ate agora o melhor) com mais divisões no k-fold\n",
    "clf = svm.SVC(kernel='poly', degree=2, C=1)\n",
    "scores = cross_val_score(clf, iris.data, iris.target, cv=10)\n",
    "print(scores.mean())"
   ]
  },
  {
   "cell_type": "code",
   "execution_count": 17,
   "id": "934548d1-ddd5-4cec-a3cb-5ba0a7a6a5e3",
   "metadata": {},
   "outputs": [
    {
     "name": "stdout",
     "output_type": "stream",
     "text": [
      "0.98\n"
     ]
    }
   ],
   "source": [
    "# Polinomial grau 2 (ate agora o melhor) com mais divisões no k-fold\n",
    "clf = svm.SVC(kernel='poly', degree=2, C=1)\n",
    "scores = cross_val_score(clf, iris.data, iris.target, cv=3)\n",
    "print(scores.mean())"
   ]
  }
 ],
 "metadata": {
  "kernelspec": {
   "display_name": "Python 3 (ipykernel)",
   "language": "python",
   "name": "python3"
  },
  "language_info": {
   "codemirror_mode": {
    "name": "ipython",
    "version": 3
   },
   "file_extension": ".py",
   "mimetype": "text/x-python",
   "name": "python",
   "nbconvert_exporter": "python",
   "pygments_lexer": "ipython3",
   "version": "3.11.9"
  }
 },
 "nbformat": 4,
 "nbformat_minor": 5
}
