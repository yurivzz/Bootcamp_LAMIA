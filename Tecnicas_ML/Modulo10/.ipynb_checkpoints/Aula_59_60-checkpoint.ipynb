{
 "cells": [
  {
   "cell_type": "markdown",
   "id": "1a974f00-1cea-414c-a9aa-05689c8af734",
   "metadata": {},
   "source": [
    "# Confusion matrix"
   ]
  },
  {
   "cell_type": "markdown",
   "id": "b733c2f9-1620-434b-9f43-960e289b0967",
   "metadata": {},
   "source": [
    "### Sometimes Accuracy Doesn't Tell the Whole Story\n",
    "\n",
    "- A test for a rare disease can be 99.9% accurate just by guessing \"no\" all the time.\n",
    "- A confusion matrix can help to understand true (and false) positives and negatives.\n",
    "\n",
    "In a nutshell, it's a matrix-form diagram that shows when the predictions are actually true.\n"
   ]
  },
  {
   "cell_type": "markdown",
   "id": "249ae06d-efc5-414c-95e5-a6232a2c4a60",
   "metadata": {},
   "source": [
    "# Measuring Classifiers"
   ]
  },
  {
   "cell_type": "markdown",
   "id": "466e5ab1-693a-42c9-ad0a-fd1ec1b5ebbc",
   "metadata": {},
   "source": [
    "## Recall\n",
    "- Also known as Sensitivity, True Positive Rate, Completeness\n",
    "- Percent of positives correctly predicted\n",
    "- A good choice of metric when false negatives are relevant\n",
    "$$ \\frac{True Positives}{True Positives + False Negatives} $$\n",
    "\n",
    "## Precision\n",
    "- AKA Correct Positives\n",
    "- Percent of relevant results\n",
    "- A good choice when false positives are relevant\n",
    "$$ \\frac{True Positives}{True Positives + False Positives} $$\n",
    "\n",
    "## Other Metrics\n",
    "\n",
    "### Specificity\n",
    "$$ \\frac{TN}{TN + FP} $$\n",
    "\n",
    "### F1 Score\n",
    "$$ \\frac{2TP}{2TP + FP + FN} $$\n",
    "\n",
    "$$ 2 \\frac{Precision \\cdot Recall}{Precision + Recall} $$\n",
    "\n",
    "- Harmonic mean of Precision and Sensitivity\n",
    "- Used when you care about both Precision and Recall\n",
    "\n",
    "### RMSE\n",
    "- Root Mean Square Error\n",
    "- Focuses on precision\n",
    "- Only considers correct and incorrect answers\n",
    "\n",
    "## ROC Curve\n",
    "Receiver Operating Characteristic Curve\n",
    "- Plot of True Positive Rate (Recall) vs False Positive Rate at various threshold settings\n",
    "- Points above the diagonal represent good classification\n",
    "- The ideal curve would just be a point in the upper-left corner\n",
    "- The more it bends toward the upper-left, the better\n",
    "\n",
    "\n",
    "## AUC\n",
    "Area under the curve\n",
    "- Equal to probability that a classifier will rank a randomly chosen positive instance higher than a randomly chosen negative one\n",
    "- ROC AUC of 0.5 is a useless classifier, 1.0 is perfect\n",
    "- Commoly user metric for comparing classifiers"
   ]
  },
  {
   "cell_type": "code",
   "execution_count": null,
   "id": "34a651d8-7a21-49a7-9342-63f772e915bd",
   "metadata": {},
   "outputs": [],
   "source": []
  }
 ],
 "metadata": {
  "kernelspec": {
   "display_name": "Python 3 (ipykernel)",
   "language": "python",
   "name": "python3"
  },
  "language_info": {
   "codemirror_mode": {
    "name": "ipython",
    "version": 3
   },
   "file_extension": ".py",
   "mimetype": "text/x-python",
   "name": "python",
   "nbconvert_exporter": "python",
   "pygments_lexer": "ipython3",
   "version": "3.11.9"
  }
 },
 "nbformat": 4,
 "nbformat_minor": 5
}
