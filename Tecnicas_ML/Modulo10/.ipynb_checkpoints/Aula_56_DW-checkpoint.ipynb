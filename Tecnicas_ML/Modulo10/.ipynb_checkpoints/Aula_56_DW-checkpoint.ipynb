{
 "cells": [
  {
   "cell_type": "markdown",
   "id": "4cec1cdb-0e1e-49c7-a389-252d36ca3ef5",
   "metadata": {},
   "source": [
    "# Data Warehousing Overview: ETL and ELT"
   ]
  },
  {
   "cell_type": "markdown",
   "id": "ae6cb989-c94f-425a-9615-387015e67e03",
   "metadata": {},
   "source": [
    "## What is data warehousing?\n",
    "A large, centralized datacenter that contains information from many sources\n",
    "Queried via SQL or tools like Tableau\n",
    "Entire departaments are dedicated to mainteinig a data warehouse\n",
    "- Data normalization\n",
    "- Maintaining the data feeds\n",
    "- Scaling"
   ]
  },
  {
   "cell_type": "markdown",
   "id": "1093eea9-ad01-4661-ad96-c50349f41370",
   "metadata": {},
   "source": [
    "## ETL: Extract, Transform, Load\n",
    "\n",
    "Traditionally, that's the flow:\n",
    "- Raw data from operational systems is first periodically extracted\n",
    "- Then, the data is transformed into the schema needed by the DW (normalization)\n",
    "- And lastly the data is loaded into the DW, alredy in the structured needed"
   ]
  },
  {
   "cell_type": "markdown",
   "id": "f05ad207-57bc-4af1-8882-c25d65d47797",
   "metadata": {},
   "source": [
    "## ELT: Extract, Load, Transform\n",
    "\n",
    "When dealing with big data, the transform can take a wile, so the the flow is like:\n",
    "- Extract raw data\n",
    "- Load as it is\n",
    "- Then use some toll to transform it in-place (like hadoop)"
   ]
  }
 ],
 "metadata": {
  "kernelspec": {
   "display_name": "Python 3 (ipykernel)",
   "language": "python",
   "name": "python3"
  },
  "language_info": {
   "codemirror_mode": {
    "name": "ipython",
    "version": 3
   },
   "file_extension": ".py",
   "mimetype": "text/x-python",
   "name": "python",
   "nbconvert_exporter": "python",
   "pygments_lexer": "ipython3",
   "version": "3.11.9"
  }
 },
 "nbformat": 4,
 "nbformat_minor": 5
}
