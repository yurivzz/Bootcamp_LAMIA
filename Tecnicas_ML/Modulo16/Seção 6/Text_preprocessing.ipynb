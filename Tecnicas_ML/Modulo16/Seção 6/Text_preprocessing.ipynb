{
  "nbformat": 4,
  "nbformat_minor": 0,
  "metadata": {
    "colab": {
      "provenance": []
    },
    "kernelspec": {
      "name": "python3",
      "display_name": "Python 3"
    },
    "language_info": {
      "name": "python"
    }
  },
  "cells": [
    {
      "cell_type": "code",
      "execution_count": null,
      "metadata": {
        "id": "A2haLwLCBnJb"
      },
      "outputs": [],
      "source": [
        "# Import das bibliotecas\n",
        "import tensorflow as tf\n",
        "from tensorflow.keras.preprocessing.text import Tokenizer\n",
        "from tensorflow.keras.preprocessing.sequence import pad_sequences"
      ]
    },
    {
      "cell_type": "code",
      "source": [
        "# Frases a serem processadas\n",
        "sentences = [\n",
        "    'I like eggs and ham',\n",
        "    'I love chocolate and bunnies',\n",
        "    'I hate onions'\n",
        "]"
      ],
      "metadata": {
        "id": "xdhClISkE074"
      },
      "execution_count": null,
      "outputs": []
    },
    {
      "cell_type": "code",
      "source": [
        "# Vocabulario maximo\n",
        "MAX_VOCAB_SIZE = 20000\n",
        "# Instancia do tokenizer\n",
        "tokenizer = Tokenizer(num_words=MAX_VOCAB_SIZE)\n",
        "# Ajustamos o tokenizer para o texto definido acima\n",
        "tokenizer.fit_on_texts(sentences)\n",
        "# Transforma o texto nas listas de inteiros\n",
        "sequences = tokenizer.texts_to_sequences(sentences)"
      ],
      "metadata": {
        "id": "nl4qPdG9F8EI"
      },
      "execution_count": 28,
      "outputs": []
    },
    {
      "cell_type": "code",
      "source": [
        "sequences"
      ],
      "metadata": {
        "colab": {
          "base_uri": "https://localhost:8080/"
        },
        "id": "UrU2VRMNGYX_",
        "outputId": "78e89ecc-fdea-4bd9-fe84-41af09ee90ae"
      },
      "execution_count": null,
      "outputs": [
        {
          "output_type": "execute_result",
          "data": {
            "text/plain": [
              "[[1, 3, 4, 2, 5], [1, 6, 7, 2, 8], [1, 9, 10]]"
            ]
          },
          "metadata": {},
          "execution_count": 8
        }
      ]
    },
    {
      "cell_type": "code",
      "source": [
        "# Dicionario com o map das palavras\n",
        "tokenizer.word_index"
      ],
      "metadata": {
        "colab": {
          "base_uri": "https://localhost:8080/"
        },
        "id": "t6jUX6A0G1xx",
        "outputId": "b171e9e8-1c50-4b17-c502-8ee081a978d0"
      },
      "execution_count": null,
      "outputs": [
        {
          "output_type": "execute_result",
          "data": {
            "text/plain": [
              "{'i': 1,\n",
              " 'and': 2,\n",
              " 'like': 3,\n",
              " 'eggs': 4,\n",
              " 'ham': 5,\n",
              " 'love': 6,\n",
              " 'chocolate': 7,\n",
              " 'bunnies': 8,\n",
              " 'hate': 9,\n",
              " 'onions': 10}"
            ]
          },
          "metadata": {},
          "execution_count": 9
        }
      ]
    },
    {
      "cell_type": "code",
      "source": [
        "# Transforma a lista sequences em um array e adiciona\n",
        "# zeros no comecou ou no final para q as frases fiquem\n",
        "# do mesmo tamanho\n",
        "data = pad_sequences(sequences)\n",
        "data"
      ],
      "metadata": {
        "colab": {
          "base_uri": "https://localhost:8080/"
        },
        "id": "0TIyPgcvG9a-",
        "outputId": "323deb86-3943-4a27-fed5-92b9743fb52d"
      },
      "execution_count": null,
      "outputs": [
        {
          "output_type": "execute_result",
          "data": {
            "text/plain": [
              "array([[ 1,  3,  4,  2,  5],\n",
              "       [ 1,  6,  7,  2,  8],\n",
              "       [ 0,  0,  1,  9, 10]], dtype=int32)"
            ]
          },
          "metadata": {},
          "execution_count": 11
        }
      ]
    },
    {
      "cell_type": "code",
      "source": [
        "# Passando o parametro que controla o tamanho maximo das frases\n",
        "# O padrao é a maior\n",
        "MAX_SEQUENCE_LENGHT = 5\n",
        "data = pad_sequences(sequences, maxlen=MAX_SEQUENCE_LENGHT)\n",
        "data"
      ],
      "metadata": {
        "colab": {
          "base_uri": "https://localhost:8080/"
        },
        "id": "uEiCXqHcHFD2",
        "outputId": "6f3930cd-dffe-48ab-8a7a-68fc10ccb1c8"
      },
      "execution_count": null,
      "outputs": [
        {
          "output_type": "execute_result",
          "data": {
            "text/plain": [
              "array([[ 1,  3,  4,  2,  5],\n",
              "       [ 1,  6,  7,  2,  8],\n",
              "       [ 0,  0,  1,  9, 10]], dtype=int32)"
            ]
          },
          "metadata": {},
          "execution_count": 14
        }
      ]
    },
    {
      "cell_type": "code",
      "source": [
        "# Mudando os zeros para o final\n",
        "data = pad_sequences(sequences, maxlen=MAX_SEQUENCE_LENGHT, padding='post')\n",
        "data"
      ],
      "metadata": {
        "colab": {
          "base_uri": "https://localhost:8080/"
        },
        "id": "xa7FAPk2HpNi",
        "outputId": "aa733743-7f3d-4d41-d69d-193b737ee242"
      },
      "execution_count": null,
      "outputs": [
        {
          "output_type": "execute_result",
          "data": {
            "text/plain": [
              "array([[ 1,  3,  4,  2,  5],\n",
              "       [ 1,  6,  7,  2,  8],\n",
              "       [ 1,  9, 10,  0,  0]], dtype=int32)"
            ]
          },
          "metadata": {},
          "execution_count": 16
        }
      ]
    },
    {
      "cell_type": "code",
      "source": [
        "# Padding mto longo adiciona zeros redundantes\n",
        "data = pad_sequences(sequences, maxlen=6)\n",
        "data"
      ],
      "metadata": {
        "colab": {
          "base_uri": "https://localhost:8080/"
        },
        "id": "eHt5ENWmH3ov",
        "outputId": "01d441d6-69b8-45e6-86c5-3a5c86ee7797"
      },
      "execution_count": null,
      "outputs": [
        {
          "output_type": "execute_result",
          "data": {
            "text/plain": [
              "array([[ 0,  1,  3,  4,  2,  5],\n",
              "       [ 0,  1,  6,  7,  2,  8],\n",
              "       [ 0,  0,  0,  1,  9, 10]], dtype=int32)"
            ]
          },
          "metadata": {},
          "execution_count": 18
        }
      ]
    },
    {
      "cell_type": "code",
      "source": [
        "# Padding mto curto trunca as frases\n",
        "data = pad_sequences(sequences, maxlen=4)\n",
        "data"
      ],
      "metadata": {
        "colab": {
          "base_uri": "https://localhost:8080/"
        },
        "id": "KxgCKlP5ICNi",
        "outputId": "369b28ee-f188-465f-d29d-23a1b1f96830"
      },
      "execution_count": null,
      "outputs": [
        {
          "output_type": "execute_result",
          "data": {
            "text/plain": [
              "array([[ 3,  4,  2,  5],\n",
              "       [ 6,  7,  2,  8],\n",
              "       [ 0,  1,  9, 10]], dtype=int32)"
            ]
          },
          "metadata": {},
          "execution_count": 20
        }
      ]
    },
    {
      "cell_type": "code",
      "source": [
        "# Truncando a frase no final\n",
        "data = pad_sequences(sequences, maxlen=4, padding='post')\n",
        "data"
      ],
      "metadata": {
        "colab": {
          "base_uri": "https://localhost:8080/"
        },
        "id": "IcfcRxDZIGa5",
        "outputId": "9f52a06a-84de-4519-c7ea-1c5f2143096b"
      },
      "execution_count": null,
      "outputs": [
        {
          "output_type": "execute_result",
          "data": {
            "text/plain": [
              "array([[ 3,  4,  2,  5],\n",
              "       [ 6,  7,  2,  8],\n",
              "       [ 1,  9, 10,  0]], dtype=int32)"
            ]
          },
          "metadata": {},
          "execution_count": 21
        }
      ]
    },
    {
      "cell_type": "markdown",
      "source": [
        "# Pratica"
      ],
      "metadata": {
        "id": "vfwHQPCLPtz5"
      }
    },
    {
      "cell_type": "code",
      "source": [
        "frases = [\n",
        "    'Gosto de pizza',\n",
        "    'Amo café e bolo',\n",
        "    'Detesto abobrinha gratinada no almoco',\n",
        "    'Gosto de cinema e caminhar',\n",
        "    'Adoro música boa',\n",
        "    'Prefiro chá gelado',\n",
        "    'Amo ler livros',\n",
        "    'Detesto acordar cedo',\n",
        "    'Gosto de sorvete',\n",
        "    'Amo filmes antigos em preto e branco',\n",
        "    'Não gosto de chuva',\n",
        "    'Gosto de viajar',\n",
        "    'Adoro praia quando não me esqueco de passar protetor',\n",
        "    'Prefiro calor',\n",
        "    'Detesto trânsito'\n",
        "]\n"
      ],
      "metadata": {
        "id": "9Jc2sBg9IXSX"
      },
      "execution_count": 25,
      "outputs": []
    },
    {
      "cell_type": "code",
      "source": [
        "# Basicamente o mesmo codigo da celula la de cima\n",
        "# mas para a lista de frases\n",
        "MAX_VOCAB_SIZE = 20000\n",
        "tokenizer = Tokenizer(num_words=MAX_VOCAB_SIZE)\n",
        "tokenizer.fit_on_texts(frases)\n",
        "sequences = tokenizer.texts_to_sequences(frases)"
      ],
      "metadata": {
        "id": "lZ5QvSTrPv0e"
      },
      "execution_count": 26,
      "outputs": []
    },
    {
      "cell_type": "code",
      "source": [
        "# Martriz de dados tokenizados\n",
        "data = pad_sequences(sequences)\n",
        "data"
      ],
      "metadata": {
        "colab": {
          "base_uri": "https://localhost:8080/"
        },
        "id": "cFoAbng-P9Wp",
        "outputId": "9e030f8e-46b1-49ec-a23f-ddd4371ddf51"
      },
      "execution_count": 27,
      "outputs": [
        {
          "output_type": "execute_result",
          "data": {
            "text/plain": [
              "array([[ 0,  0,  0,  0,  0,  0,  2,  1,  9],\n",
              "       [ 0,  0,  0,  0,  0,  3, 10,  4, 11],\n",
              "       [ 0,  0,  0,  0,  5, 12, 13, 14, 15],\n",
              "       [ 0,  0,  0,  0,  2,  1, 16,  4, 17],\n",
              "       [ 0,  0,  0,  0,  0,  0,  6, 18, 19],\n",
              "       [ 0,  0,  0,  0,  0,  0,  7, 20, 21],\n",
              "       [ 0,  0,  0,  0,  0,  0,  3, 22, 23],\n",
              "       [ 0,  0,  0,  0,  0,  0,  5, 24, 25],\n",
              "       [ 0,  0,  0,  0,  0,  0,  2,  1, 26],\n",
              "       [ 0,  0,  3, 27, 28, 29, 30,  4, 31],\n",
              "       [ 0,  0,  0,  0,  0,  8,  2,  1, 32],\n",
              "       [ 0,  0,  0,  0,  0,  0,  2,  1, 33],\n",
              "       [ 6, 34, 35,  8, 36, 37,  1, 38, 39],\n",
              "       [ 0,  0,  0,  0,  0,  0,  0,  7, 40],\n",
              "       [ 0,  0,  0,  0,  0,  0,  0,  5, 41]], dtype=int32)"
            ]
          },
          "metadata": {},
          "execution_count": 27
        }
      ]
    },
    {
      "cell_type": "code",
      "source": [],
      "metadata": {
        "id": "EuUNwHioQAax"
      },
      "execution_count": null,
      "outputs": []
    }
  ]
}